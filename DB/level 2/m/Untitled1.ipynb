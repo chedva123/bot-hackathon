{
 "cells": [
  {
   "cell_type": "code",
   "execution_count": 1,
   "metadata": {},
   "outputs": [],
   "source": [
    "from PIL import Image, ImageDraw,ImageFont\n",
    "from PIL import Image \n",
    "import random\n",
    "#import ImageFont\n",
    "Image1 = Image.open('12.jpg') \n",
    "\n",
    "Image1copy = Image1.copy()\n",
    "for i in range(20):\n",
    "    a=random.randint(0,10)\n",
    "    b=random.randint(0,10)\n",
    "    img = Image.new('RGB', (800, 600), color = (255, 255, 255))\n",
    "    fontsize=200\n",
    "    font = ImageFont.truetype(\"arial.ttf\", fontsize)\n",
    "    d = ImageDraw.Draw(img)\n",
    "\n",
    "    d.text((200,120), f\"{a} * {b} =\",fill=(0,0,0), font=font)\n",
    "    #d.multiline_textsize('1 + 1', font=None, spacing=0)\n",
    "\n",
    "\n",
    "    #img.save('t.jpg')\n",
    "    # # import image module from pillow \n",
    "\n",
    "    # open the image \n",
    "\n",
    "    Image2 =img #Image.open('t.jpg') \n",
    "    Image2copy = Image2.copy() \n",
    "\n",
    "    # paste image giving dimensions \n",
    "    Image1copy.paste(Image2copy, (60, 200)) \n",
    "\n",
    "    # save the image  \n",
    "    Image1copy.save(f'math_{i} {a} m {b} = {a*b} .jpg')"
   ]
  },
  {
   "cell_type": "code",
   "execution_count": null,
   "metadata": {},
   "outputs": [],
   "source": []
  }
 ],
 "metadata": {
  "kernelspec": {
   "display_name": "Python 3",
   "language": "python",
   "name": "python3"
  },
  "language_info": {
   "codemirror_mode": {
    "name": "ipython",
    "version": 3
   },
   "file_extension": ".py",
   "mimetype": "text/x-python",
   "name": "python",
   "nbconvert_exporter": "python",
   "pygments_lexer": "ipython3",
   "version": "3.7.0"
  }
 },
 "nbformat": 4,
 "nbformat_minor": 4
}
